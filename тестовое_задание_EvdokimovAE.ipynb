{
 "cells": [
  {
   "cell_type": "markdown",
   "metadata": {},
   "source": [
    "# 1. Вопросы"
   ]
  },
  {
   "cell_type": "markdown",
   "metadata": {},
   "source": [
    "1) Я думаю где-то 5-6. Питона, который я знаю вполне хватает для анализа данных и визуализации, я проходил большой модуль по дата саинс там было всё нужное (различные пакеты, конструкции типа трай-ексепт, функции, алгоритмы и тд), плюс делаю свои проекты, которые лежат на гитхабе.\n",
    "2) Тоже средне, около 5, знаю основные функции которые нужны для анализа, сводные таблицы и тд."
   ]
  },
  {
   "cell_type": "markdown",
   "metadata": {},
   "source": [
    "# 2. Задачи на логику"
   ]
  },
  {
   "cell_type": "markdown",
   "metadata": {},
   "source": [
    "1. 4 $\n",
    "2. 18 дней\n",
    "3. 60 баннеров\n",
    "4. Джон и Кейт\n",
    "5. 88 баллов\n",
    "6. 39 минут"
   ]
  },
  {
   "cell_type": "markdown",
   "metadata": {},
   "source": [
    "# 3. Техническое задание"
   ]
  },
  {
   "cell_type": "markdown",
   "metadata": {},
   "source": [
    "### EDA"
   ]
  },
  {
   "cell_type": "markdown",
   "metadata": {},
   "source": [
    "Импортируем модули"
   ]
  },
  {
   "cell_type": "code",
   "execution_count": 150,
   "metadata": {},
   "outputs": [],
   "source": [
    "import numpy as np\n",
    "import pandas as pd\n",
    "import seaborn as sns\n",
    "import matplotlib.pyplot as plt\n",
    "import warnings\n",
    "warnings.filterwarnings(\"ignore\")"
   ]
  },
  {
   "cell_type": "markdown",
   "metadata": {},
   "source": [
    "Загружаем датасет"
   ]
  },
  {
   "cell_type": "code",
   "execution_count": 151,
   "metadata": {},
   "outputs": [],
   "source": [
    "df = pd.read_excel('data.xlsx')"
   ]
  },
  {
   "cell_type": "markdown",
   "metadata": {},
   "source": [
    "Посмотрим как выглядит таблица"
   ]
  },
  {
   "cell_type": "code",
   "execution_count": 152,
   "metadata": {},
   "outputs": [
    {
     "data": {
      "text/html": [
       "<div>\n",
       "<style scoped>\n",
       "    .dataframe tbody tr th:only-of-type {\n",
       "        vertical-align: middle;\n",
       "    }\n",
       "\n",
       "    .dataframe tbody tr th {\n",
       "        vertical-align: top;\n",
       "    }\n",
       "\n",
       "    .dataframe thead th {\n",
       "        text-align: right;\n",
       "    }\n",
       "</style>\n",
       "<table border=\"1\" class=\"dataframe\">\n",
       "  <thead>\n",
       "    <tr style=\"text-align: right;\">\n",
       "      <th></th>\n",
       "      <th>client_id</th>\n",
       "      <th>sum</th>\n",
       "      <th>status</th>\n",
       "      <th>sale</th>\n",
       "      <th>new/current</th>\n",
       "      <th>Unnamed: 5</th>\n",
       "      <th>document</th>\n",
       "      <th>receiving_date</th>\n",
       "    </tr>\n",
       "  </thead>\n",
       "  <tbody>\n",
       "    <tr>\n",
       "      <th>0</th>\n",
       "      <td>NaN</td>\n",
       "      <td>NaN</td>\n",
       "      <td>Май 2021</td>\n",
       "      <td>NaN</td>\n",
       "      <td>NaN</td>\n",
       "      <td>NaN</td>\n",
       "      <td>NaN</td>\n",
       "      <td>NaN</td>\n",
       "    </tr>\n",
       "    <tr>\n",
       "      <th>1</th>\n",
       "      <td>6.0</td>\n",
       "      <td>11693.7</td>\n",
       "      <td>ВНУТРЕННИЙ</td>\n",
       "      <td>-</td>\n",
       "      <td>-</td>\n",
       "      <td>NaN</td>\n",
       "      <td>-</td>\n",
       "      <td>-</td>\n",
       "    </tr>\n",
       "    <tr>\n",
       "      <th>2</th>\n",
       "      <td>14.0</td>\n",
       "      <td>5452.7</td>\n",
       "      <td>ОПЛАЧЕНО</td>\n",
       "      <td>Петрова</td>\n",
       "      <td>новая</td>\n",
       "      <td>NaN</td>\n",
       "      <td>оригинал</td>\n",
       "      <td>2021-07-26 00:00:00</td>\n",
       "    </tr>\n",
       "    <tr>\n",
       "      <th>3</th>\n",
       "      <td>15.0</td>\n",
       "      <td>13991.7</td>\n",
       "      <td>ОПЛАЧЕНО</td>\n",
       "      <td>Иванов</td>\n",
       "      <td>текущая</td>\n",
       "      <td>NaN</td>\n",
       "      <td>оригинал</td>\n",
       "      <td>2021-06-08 00:00:00</td>\n",
       "    </tr>\n",
       "    <tr>\n",
       "      <th>4</th>\n",
       "      <td>16.0</td>\n",
       "      <td>719.7</td>\n",
       "      <td>ОПЛАЧЕНО</td>\n",
       "      <td>Иванов</td>\n",
       "      <td>текущая</td>\n",
       "      <td>NaN</td>\n",
       "      <td>оригинал</td>\n",
       "      <td>2021-06-08 00:00:00</td>\n",
       "    </tr>\n",
       "  </tbody>\n",
       "</table>\n",
       "</div>"
      ],
      "text/plain": [
       "   client_id      sum      status     sale new/current  Unnamed: 5  document  \\\n",
       "0        NaN      NaN    Май 2021      NaN         NaN         NaN       NaN   \n",
       "1        6.0  11693.7  ВНУТРЕННИЙ        -           -         NaN         -   \n",
       "2       14.0   5452.7    ОПЛАЧЕНО  Петрова       новая         NaN  оригинал   \n",
       "3       15.0  13991.7    ОПЛАЧЕНО   Иванов     текущая         NaN  оригинал   \n",
       "4       16.0    719.7    ОПЛАЧЕНО   Иванов     текущая         NaN  оригинал   \n",
       "\n",
       "        receiving_date  \n",
       "0                  NaN  \n",
       "1                    -  \n",
       "2  2021-07-26 00:00:00  \n",
       "3  2021-06-08 00:00:00  \n",
       "4  2021-06-08 00:00:00  "
      ]
     },
     "execution_count": 152,
     "metadata": {},
     "output_type": "execute_result"
    }
   ],
   "source": [
    "df.head()"
   ]
  },
  {
   "cell_type": "markdown",
   "metadata": {},
   "source": [
    "Изучим, что находится в колонках"
   ]
  },
  {
   "cell_type": "code",
   "execution_count": 153,
   "metadata": {},
   "outputs": [
    {
     "name": "stdout",
     "output_type": "stream",
     "text": [
      "<class 'pandas.core.frame.DataFrame'>\n",
      "RangeIndex: 730 entries, 0 to 729\n",
      "Data columns (total 8 columns):\n",
      " #   Column          Non-Null Count  Dtype  \n",
      "---  ------          --------------  -----  \n",
      " 0   client_id       724 non-null    float64\n",
      " 1   sum             724 non-null    float64\n",
      " 2   status          730 non-null    object \n",
      " 3   sale            724 non-null    object \n",
      " 4   new/current     724 non-null    object \n",
      " 5   Unnamed: 5      0 non-null      float64\n",
      " 6   document        709 non-null    object \n",
      " 7   receiving_date  607 non-null    object \n",
      "dtypes: float64(3), object(5)\n",
      "memory usage: 45.8+ KB\n"
     ]
    }
   ],
   "source": [
    "df.info()"
   ]
  },
  {
   "cell_type": "markdown",
   "metadata": {},
   "source": [
    "Сразу видно что колонка 'Unnamed: 5' полностью пустая, можно её спокойно удалить"
   ]
  },
  {
   "cell_type": "code",
   "execution_count": 154,
   "metadata": {},
   "outputs": [],
   "source": [
    "df = df.drop(columns=['Unnamed: 5'])"
   ]
  },
  {
   "cell_type": "markdown",
   "metadata": {},
   "source": [
    "В клонке 'client_id' 6 пропусков, которые присутствуют и в последующих колонках, их удаляем тоже"
   ]
  },
  {
   "cell_type": "code",
   "execution_count": 155,
   "metadata": {},
   "outputs": [],
   "source": [
    "df = df.dropna(subset=['client_id'])"
   ]
  },
  {
   "cell_type": "markdown",
   "metadata": {},
   "source": [
    "Проверяем следующую колонку, в ней всё в порядке"
   ]
  },
  {
   "cell_type": "code",
   "execution_count": 156,
   "metadata": {},
   "outputs": [
    {
     "data": {
      "text/plain": [
       "array(['ВНУТРЕННИЙ', 'ОПЛАЧЕНО', 'ПРОСРОЧЕНО', 'В РАБОТЕ',\n",
       "       'НА ПОДПИСАНИИ'], dtype=object)"
      ]
     },
     "execution_count": 156,
     "metadata": {},
     "output_type": "execute_result"
    }
   ],
   "source": [
    "df['status'].unique()"
   ]
  },
  {
   "cell_type": "markdown",
   "metadata": {},
   "source": [
    "В колонке 'sale' всего 12 иникальных значений, одно из которых ошибка в виде '-', которая встречается и в следующих колонках, избавимся от неё"
   ]
  },
  {
   "cell_type": "code",
   "execution_count": 157,
   "metadata": {},
   "outputs": [
    {
     "data": {
      "text/plain": [
       "12"
      ]
     },
     "execution_count": 157,
     "metadata": {},
     "output_type": "execute_result"
    }
   ],
   "source": [
    "df['sale'].nunique()"
   ]
  },
  {
   "cell_type": "code",
   "execution_count": 158,
   "metadata": {},
   "outputs": [
    {
     "data": {
      "text/plain": [
       "sale\n",
       "Петрова       169\n",
       "Смирнов       122\n",
       "Андреев       103\n",
       "Кузнецова      96\n",
       "Иванов         73\n",
       "Филимонова     64\n",
       "Васильев       46\n",
       "Соколов        23\n",
       "Селиванов      21\n",
       "Михайлов        5\n",
       "-               1\n",
       "Попов           1\n",
       "Name: count, dtype: int64"
      ]
     },
     "execution_count": 158,
     "metadata": {},
     "output_type": "execute_result"
    }
   ],
   "source": [
    "df['sale'].value_counts()"
   ]
  },
  {
   "cell_type": "code",
   "execution_count": 159,
   "metadata": {},
   "outputs": [],
   "source": [
    "df['sale'] = df['sale'].replace('-', np.nan)\n",
    "df['new/current'] = df['new/current'].replace('-', np.nan)\n",
    "df['document'] = df['document'].replace('-', np.nan)\n",
    "df['receiving_date'] = df['receiving_date'].replace('-', np.nan)"
   ]
  },
  {
   "cell_type": "markdown",
   "metadata": {},
   "source": [
    "Теперь из недочётов остались только пропуски:"
   ]
  },
  {
   "cell_type": "code",
   "execution_count": 160,
   "metadata": {},
   "outputs": [
    {
     "data": {
      "text/plain": [
       "client_id           0\n",
       "sum                 0\n",
       "status              0\n",
       "sale                1\n",
       "new/current         1\n",
       "document           16\n",
       "receiving_date    118\n",
       "dtype: int64"
      ]
     },
     "execution_count": 160,
     "metadata": {},
     "output_type": "execute_result"
    }
   ],
   "source": [
    "df.isna().sum()"
   ]
  },
  {
   "cell_type": "markdown",
   "metadata": {},
   "source": [
    "Однако эти пропуски уже не являются ошибками и несут за собой некий смысл"
   ]
  },
  {
   "cell_type": "markdown",
   "metadata": {},
   "source": [
    "С остальными колонками мы разобрались, теперь таблица выглядит так и готова для работы:"
   ]
  },
  {
   "cell_type": "code",
   "execution_count": 161,
   "metadata": {},
   "outputs": [
    {
     "data": {
      "text/html": [
       "<div>\n",
       "<style scoped>\n",
       "    .dataframe tbody tr th:only-of-type {\n",
       "        vertical-align: middle;\n",
       "    }\n",
       "\n",
       "    .dataframe tbody tr th {\n",
       "        vertical-align: top;\n",
       "    }\n",
       "\n",
       "    .dataframe thead th {\n",
       "        text-align: right;\n",
       "    }\n",
       "</style>\n",
       "<table border=\"1\" class=\"dataframe\">\n",
       "  <thead>\n",
       "    <tr style=\"text-align: right;\">\n",
       "      <th></th>\n",
       "      <th>client_id</th>\n",
       "      <th>sum</th>\n",
       "      <th>status</th>\n",
       "      <th>sale</th>\n",
       "      <th>new/current</th>\n",
       "      <th>document</th>\n",
       "      <th>receiving_date</th>\n",
       "    </tr>\n",
       "  </thead>\n",
       "  <tbody>\n",
       "    <tr>\n",
       "      <th>1</th>\n",
       "      <td>6.0</td>\n",
       "      <td>11693.7</td>\n",
       "      <td>ВНУТРЕННИЙ</td>\n",
       "      <td>NaN</td>\n",
       "      <td>NaN</td>\n",
       "      <td>NaN</td>\n",
       "      <td>NaT</td>\n",
       "    </tr>\n",
       "    <tr>\n",
       "      <th>2</th>\n",
       "      <td>14.0</td>\n",
       "      <td>5452.7</td>\n",
       "      <td>ОПЛАЧЕНО</td>\n",
       "      <td>Петрова</td>\n",
       "      <td>новая</td>\n",
       "      <td>оригинал</td>\n",
       "      <td>2021-07-26</td>\n",
       "    </tr>\n",
       "    <tr>\n",
       "      <th>3</th>\n",
       "      <td>15.0</td>\n",
       "      <td>13991.7</td>\n",
       "      <td>ОПЛАЧЕНО</td>\n",
       "      <td>Иванов</td>\n",
       "      <td>текущая</td>\n",
       "      <td>оригинал</td>\n",
       "      <td>2021-06-08</td>\n",
       "    </tr>\n",
       "    <tr>\n",
       "      <th>4</th>\n",
       "      <td>16.0</td>\n",
       "      <td>719.7</td>\n",
       "      <td>ОПЛАЧЕНО</td>\n",
       "      <td>Иванов</td>\n",
       "      <td>текущая</td>\n",
       "      <td>оригинал</td>\n",
       "      <td>2021-06-08</td>\n",
       "    </tr>\n",
       "    <tr>\n",
       "      <th>5</th>\n",
       "      <td>18.0</td>\n",
       "      <td>4253.7</td>\n",
       "      <td>ОПЛАЧЕНО</td>\n",
       "      <td>Иванов</td>\n",
       "      <td>текущая</td>\n",
       "      <td>оригинал</td>\n",
       "      <td>2021-07-07</td>\n",
       "    </tr>\n",
       "    <tr>\n",
       "      <th>...</th>\n",
       "      <td>...</td>\n",
       "      <td>...</td>\n",
       "      <td>...</td>\n",
       "      <td>...</td>\n",
       "      <td>...</td>\n",
       "      <td>...</td>\n",
       "      <td>...</td>\n",
       "    </tr>\n",
       "    <tr>\n",
       "      <th>725</th>\n",
       "      <td>285.0</td>\n",
       "      <td>4328.7</td>\n",
       "      <td>ОПЛАЧЕНО</td>\n",
       "      <td>Васильев</td>\n",
       "      <td>текущая</td>\n",
       "      <td>оригинал</td>\n",
       "      <td>2021-11-15</td>\n",
       "    </tr>\n",
       "    <tr>\n",
       "      <th>726</th>\n",
       "      <td>360.0</td>\n",
       "      <td>3096.2</td>\n",
       "      <td>ОПЛАЧЕНО</td>\n",
       "      <td>Васильев</td>\n",
       "      <td>новая</td>\n",
       "      <td>НЕТ</td>\n",
       "      <td>NaT</td>\n",
       "    </tr>\n",
       "    <tr>\n",
       "      <th>727</th>\n",
       "      <td>360.0</td>\n",
       "      <td>3096.2</td>\n",
       "      <td>ПРОСРОЧЕНО</td>\n",
       "      <td>Васильев</td>\n",
       "      <td>новая</td>\n",
       "      <td>НЕТ</td>\n",
       "      <td>NaT</td>\n",
       "    </tr>\n",
       "    <tr>\n",
       "      <th>728</th>\n",
       "      <td>373.0</td>\n",
       "      <td>4403.7</td>\n",
       "      <td>ОПЛАЧЕНО</td>\n",
       "      <td>Михайлов</td>\n",
       "      <td>новая</td>\n",
       "      <td>оригинал</td>\n",
       "      <td>2021-11-08</td>\n",
       "    </tr>\n",
       "    <tr>\n",
       "      <th>729</th>\n",
       "      <td>286.0</td>\n",
       "      <td>3978.7</td>\n",
       "      <td>ОПЛАЧЕНО</td>\n",
       "      <td>Филимонова</td>\n",
       "      <td>текущая</td>\n",
       "      <td>оригинал</td>\n",
       "      <td>2021-11-15</td>\n",
       "    </tr>\n",
       "  </tbody>\n",
       "</table>\n",
       "<p>724 rows × 7 columns</p>\n",
       "</div>"
      ],
      "text/plain": [
       "     client_id      sum      status        sale new/current  document  \\\n",
       "1          6.0  11693.7  ВНУТРЕННИЙ         NaN         NaN       NaN   \n",
       "2         14.0   5452.7    ОПЛАЧЕНО     Петрова       новая  оригинал   \n",
       "3         15.0  13991.7    ОПЛАЧЕНО      Иванов     текущая  оригинал   \n",
       "4         16.0    719.7    ОПЛАЧЕНО      Иванов     текущая  оригинал   \n",
       "5         18.0   4253.7    ОПЛАЧЕНО      Иванов     текущая  оригинал   \n",
       "..         ...      ...         ...         ...         ...       ...   \n",
       "725      285.0   4328.7    ОПЛАЧЕНО    Васильев     текущая  оригинал   \n",
       "726      360.0   3096.2    ОПЛАЧЕНО    Васильев       новая       НЕТ   \n",
       "727      360.0   3096.2  ПРОСРОЧЕНО    Васильев       новая       НЕТ   \n",
       "728      373.0   4403.7    ОПЛАЧЕНО    Михайлов       новая  оригинал   \n",
       "729      286.0   3978.7    ОПЛАЧЕНО  Филимонова     текущая  оригинал   \n",
       "\n",
       "    receiving_date  \n",
       "1              NaT  \n",
       "2       2021-07-26  \n",
       "3       2021-06-08  \n",
       "4       2021-06-08  \n",
       "5       2021-07-07  \n",
       "..             ...  \n",
       "725     2021-11-15  \n",
       "726            NaT  \n",
       "727            NaT  \n",
       "728     2021-11-08  \n",
       "729     2021-11-15  \n",
       "\n",
       "[724 rows x 7 columns]"
      ]
     },
     "execution_count": 161,
     "metadata": {},
     "output_type": "execute_result"
    }
   ],
   "source": [
    "df"
   ]
  },
  {
   "cell_type": "markdown",
   "metadata": {},
   "source": [
    "### 1) Вычислите общую выручку за июль 2021 по тем сделкам, приход денежных средств которых не просрочен."
   ]
  },
  {
   "cell_type": "code",
   "execution_count": 162,
   "metadata": {},
   "outputs": [],
   "source": [
    "result1 = (df[(df['status'] != 'ПРОСРОЧЕНО') & (df['receiving_date'].dt.strftime('%Y-%m') == '2021-07')]\n",
    "       .groupby(df['receiving_date'].dt.strftime('%Y-%m'))['sum'].sum().reset_index())"
   ]
  },
  {
   "cell_type": "code",
   "execution_count": 163,
   "metadata": {},
   "outputs": [
    {
     "data": {
      "text/html": [
       "<div>\n",
       "<style scoped>\n",
       "    .dataframe tbody tr th:only-of-type {\n",
       "        vertical-align: middle;\n",
       "    }\n",
       "\n",
       "    .dataframe tbody tr th {\n",
       "        vertical-align: top;\n",
       "    }\n",
       "\n",
       "    .dataframe thead th {\n",
       "        text-align: right;\n",
       "    }\n",
       "</style>\n",
       "<table border=\"1\" class=\"dataframe\">\n",
       "  <thead>\n",
       "    <tr style=\"text-align: right;\">\n",
       "      <th></th>\n",
       "      <th>receiving_date</th>\n",
       "      <th>sum</th>\n",
       "    </tr>\n",
       "  </thead>\n",
       "  <tbody>\n",
       "    <tr>\n",
       "      <th>0</th>\n",
       "      <td>2021-07</td>\n",
       "      <td>757830.74</td>\n",
       "    </tr>\n",
       "  </tbody>\n",
       "</table>\n",
       "</div>"
      ],
      "text/plain": [
       "  receiving_date        sum\n",
       "0        2021-07  757830.74"
      ]
     },
     "execution_count": 163,
     "metadata": {},
     "output_type": "execute_result"
    }
   ],
   "source": [
    "result1"
   ]
  },
  {
   "cell_type": "markdown",
   "metadata": {},
   "source": [
    "### 2) Как изменялась выручка компании за рассматриваемый период? Проиллюстрируйте графиком."
   ]
  },
  {
   "cell_type": "code",
   "execution_count": 164,
   "metadata": {},
   "outputs": [
    {
     "data": {
      "image/png": "[encoded data removed]",
      "text/plain": [
       "<Figure size 1200x600 with 1 Axes>"
      ]
     },
     "metadata": {},
     "output_type": "display_data"
    }
   ],
   "source": [
    "plt.figure(figsize=(12, 6))\n",
    "sns.lineplot(x=df['receiving_date'], y=df['sum'], ci=None)\n",
    "plt.xlabel('Дата')\n",
    "plt.ylabel('Выручка')\n",
    "plt.title('Выручка компании за рассматриваемый период')\n",
    "plt.show()"
   ]
  },
  {
   "cell_type": "markdown",
   "metadata": {},
   "source": [
    "### 3) Кто из менеджеров привлек для компании больше всего денежных средств в сентябре 2021?"
   ]
  },
  {
   "cell_type": "code",
   "execution_count": 165,
   "metadata": {},
   "outputs": [],
   "source": [
    "result3 = (df[(df['receiving_date'].dt.strftime('%Y-%m') == '2021-09')]\n",
    "       .groupby('sale')['sum'].sum().reset_index()\n",
    "       .sort_values('sum', ascending=False).head(1))"
   ]
  },
  {
   "cell_type": "code",
   "execution_count": 166,
   "metadata": {},
   "outputs": [
    {
     "data": {
      "text/html": [
       "<div>\n",
       "<style scoped>\n",
       "    .dataframe tbody tr th:only-of-type {\n",
       "        vertical-align: middle;\n",
       "    }\n",
       "\n",
       "    .dataframe tbody tr th {\n",
       "        vertical-align: top;\n",
       "    }\n",
       "\n",
       "    .dataframe thead th {\n",
       "        text-align: right;\n",
       "    }\n",
       "</style>\n",
       "<table border=\"1\" class=\"dataframe\">\n",
       "  <thead>\n",
       "    <tr style=\"text-align: right;\">\n",
       "      <th></th>\n",
       "      <th>sale</th>\n",
       "      <th>sum</th>\n",
       "    </tr>\n",
       "  </thead>\n",
       "  <tbody>\n",
       "    <tr>\n",
       "      <th>4</th>\n",
       "      <td>Петрова</td>\n",
       "      <td>219240.12</td>\n",
       "    </tr>\n",
       "  </tbody>\n",
       "</table>\n",
       "</div>"
      ],
      "text/plain": [
       "      sale        sum\n",
       "4  Петрова  219240.12"
      ]
     },
     "execution_count": 166,
     "metadata": {},
     "output_type": "execute_result"
    }
   ],
   "source": [
    "result3"
   ]
  },
  {
   "cell_type": "markdown",
   "metadata": {},
   "source": [
    "### 4) Какой тип сделок (новая/текущая) был преобладающим в октябре 2021?"
   ]
  },
  {
   "cell_type": "code",
   "execution_count": 167,
   "metadata": {},
   "outputs": [],
   "source": [
    "result4 = (df[(df['receiving_date'].dt.strftime('%Y-%m') == '2021-10')]['new/current'].value_counts().reset_index())"
   ]
  },
  {
   "cell_type": "code",
   "execution_count": 168,
   "metadata": {},
   "outputs": [
    {
     "data": {
      "text/html": [
       "<div>\n",
       "<style scoped>\n",
       "    .dataframe tbody tr th:only-of-type {\n",
       "        vertical-align: middle;\n",
       "    }\n",
       "\n",
       "    .dataframe tbody tr th {\n",
       "        vertical-align: top;\n",
       "    }\n",
       "\n",
       "    .dataframe thead th {\n",
       "        text-align: right;\n",
       "    }\n",
       "</style>\n",
       "<table border=\"1\" class=\"dataframe\">\n",
       "  <thead>\n",
       "    <tr style=\"text-align: right;\">\n",
       "      <th></th>\n",
       "      <th>new/current</th>\n",
       "      <th>count</th>\n",
       "    </tr>\n",
       "  </thead>\n",
       "  <tbody>\n",
       "    <tr>\n",
       "      <th>0</th>\n",
       "      <td>текущая</td>\n",
       "      <td>105</td>\n",
       "    </tr>\n",
       "    <tr>\n",
       "      <th>1</th>\n",
       "      <td>новая</td>\n",
       "      <td>17</td>\n",
       "    </tr>\n",
       "  </tbody>\n",
       "</table>\n",
       "</div>"
      ],
      "text/plain": [
       "  new/current  count\n",
       "0     текущая    105\n",
       "1       новая     17"
      ]
     },
     "execution_count": 168,
     "metadata": {},
     "output_type": "execute_result"
    }
   ],
   "source": [
    "result4"
   ]
  },
  {
   "cell_type": "markdown",
   "metadata": {},
   "source": [
    "### 5) Сколько оригиналов договора по майским сделкам было получено в июне 2021?"
   ]
  },
  {
   "cell_type": "code",
   "execution_count": 169,
   "metadata": {},
   "outputs": [
    {
     "data": {
      "text/plain": [
       "0"
      ]
     },
     "execution_count": 169,
     "metadata": {},
     "output_type": "execute_result"
    }
   ],
   "source": [
    "may_transactions = df[(df['receiving_date'].dt.year == 2021) & (df['receiving_date'].dt.month == 5)]\n",
    "june_received_transactions = may_transactions[(may_transactions['receiving_date'].dt.year == 2021) \n",
    "                                              & (may_transactions['receiving_date'].dt.month == 6)]\n",
    "num_original_contracts = len(june_received_transactions)\n",
    "num_original_contracts"
   ]
  },
  {
   "cell_type": "code",
   "execution_count": 170,
   "metadata": {},
   "outputs": [],
   "source": [
    "result5 = (df[(df['receiving_date'].dt.strftime('%Y-%m') == '2021-05')])"
   ]
  },
  {
   "cell_type": "code",
   "execution_count": 171,
   "metadata": {},
   "outputs": [
    {
     "data": {
      "text/html": [
       "<div>\n",
       "<style scoped>\n",
       "    .dataframe tbody tr th:only-of-type {\n",
       "        vertical-align: middle;\n",
       "    }\n",
       "\n",
       "    .dataframe tbody tr th {\n",
       "        vertical-align: top;\n",
       "    }\n",
       "\n",
       "    .dataframe thead th {\n",
       "        text-align: right;\n",
       "    }\n",
       "</style>\n",
       "<table border=\"1\" class=\"dataframe\">\n",
       "  <thead>\n",
       "    <tr style=\"text-align: right;\">\n",
       "      <th></th>\n",
       "      <th>client_id</th>\n",
       "      <th>sum</th>\n",
       "      <th>status</th>\n",
       "      <th>sale</th>\n",
       "      <th>new/current</th>\n",
       "      <th>document</th>\n",
       "      <th>receiving_date</th>\n",
       "    </tr>\n",
       "  </thead>\n",
       "  <tbody>\n",
       "    <tr>\n",
       "      <th>50</th>\n",
       "      <td>94.0</td>\n",
       "      <td>31094.2</td>\n",
       "      <td>ОПЛАЧЕНО</td>\n",
       "      <td>Андреев</td>\n",
       "      <td>текущая</td>\n",
       "      <td>оригинал</td>\n",
       "      <td>2021-05-18</td>\n",
       "    </tr>\n",
       "    <tr>\n",
       "      <th>51</th>\n",
       "      <td>95.0</td>\n",
       "      <td>4688.7</td>\n",
       "      <td>ОПЛАЧЕНО</td>\n",
       "      <td>Андреев</td>\n",
       "      <td>текущая</td>\n",
       "      <td>оригинал</td>\n",
       "      <td>2021-05-18</td>\n",
       "    </tr>\n",
       "    <tr>\n",
       "      <th>127</th>\n",
       "      <td>286.0</td>\n",
       "      <td>3453.7</td>\n",
       "      <td>ОПЛАЧЕНО</td>\n",
       "      <td>Филимонова</td>\n",
       "      <td>текущая</td>\n",
       "      <td>оригинал</td>\n",
       "      <td>2021-05-31</td>\n",
       "    </tr>\n",
       "    <tr>\n",
       "      <th>178</th>\n",
       "      <td>95.0</td>\n",
       "      <td>4688.7</td>\n",
       "      <td>ОПЛАЧЕНО</td>\n",
       "      <td>Андреев</td>\n",
       "      <td>текущая</td>\n",
       "      <td>оригинал</td>\n",
       "      <td>2021-05-18</td>\n",
       "    </tr>\n",
       "  </tbody>\n",
       "</table>\n",
       "</div>"
      ],
      "text/plain": [
       "     client_id      sum    status        sale new/current  document  \\\n",
       "50        94.0  31094.2  ОПЛАЧЕНО     Андреев     текущая  оригинал   \n",
       "51        95.0   4688.7  ОПЛАЧЕНО     Андреев     текущая  оригинал   \n",
       "127      286.0   3453.7  ОПЛАЧЕНО  Филимонова     текущая  оригинал   \n",
       "178       95.0   4688.7  ОПЛАЧЕНО     Андреев     текущая  оригинал   \n",
       "\n",
       "    receiving_date  \n",
       "50      2021-05-18  \n",
       "51      2021-05-18  \n",
       "127     2021-05-31  \n",
       "178     2021-05-18  "
      ]
     },
     "execution_count": 171,
     "metadata": {},
     "output_type": "execute_result"
    }
   ],
   "source": [
    "result5"
   ]
  },
  {
   "cell_type": "markdown",
   "metadata": {},
   "source": [
    "Тут либо я не понял формулировки вопроса, либо как видно из таблицы выше, незавершенных в плане документов сделок в мае не было"
   ]
  },
  {
   "cell_type": "markdown",
   "metadata": {},
   "source": [
    "# Задание:  \n",
    "За каждую заключенную сделку менеджер получает бонус, который рассчитывается\n",
    "следующим образом.\n",
    "\n",
    "1) За новые сделки менеджер получает 7 % от суммы, при условии, что статус\n",
    "оплаты «ОПЛАЧЕНО», а также имеется оригинал подписанного договора с\n",
    "клиентом (в рассматриваемом месяце).\n",
    "\n",
    "2) За текущие сделки менеджер получает 5 % от суммы, если она больше 10 тыс.,\n",
    "и 3 % от суммы, если меньше. При этом статус оплаты может быть любым,\n",
    "кроме «ПРОСРОЧЕНО», а также необходимо наличие оригинала подписанного\n",
    "договора с клиентом (в рассматриваемом месяце).\n",
    "\n",
    "Бонусы по сделкам, оригиналы для которых приходят позже рассматриваемого\n",
    "месяца, считаются остатком на следующий период, который выплачивается по мере\n",
    "прихода оригиналов. Вычислите остаток каждого из менеджеров на 01.07.2021."
   ]
  },
  {
   "cell_type": "code",
   "execution_count": 172,
   "metadata": {},
   "outputs": [
    {
     "data": {
      "text/html": [
       "<div>\n",
       "<style scoped>\n",
       "    .dataframe tbody tr th:only-of-type {\n",
       "        vertical-align: middle;\n",
       "    }\n",
       "\n",
       "    .dataframe tbody tr th {\n",
       "        vertical-align: top;\n",
       "    }\n",
       "\n",
       "    .dataframe thead th {\n",
       "        text-align: right;\n",
       "    }\n",
       "</style>\n",
       "<table border=\"1\" class=\"dataframe\">\n",
       "  <thead>\n",
       "    <tr style=\"text-align: right;\">\n",
       "      <th></th>\n",
       "      <th>client_id</th>\n",
       "      <th>sum</th>\n",
       "      <th>status</th>\n",
       "      <th>sale</th>\n",
       "      <th>new/current</th>\n",
       "      <th>document</th>\n",
       "      <th>receiving_date</th>\n",
       "    </tr>\n",
       "  </thead>\n",
       "  <tbody>\n",
       "    <tr>\n",
       "      <th>1</th>\n",
       "      <td>6.0</td>\n",
       "      <td>11693.7</td>\n",
       "      <td>ВНУТРЕННИЙ</td>\n",
       "      <td>NaN</td>\n",
       "      <td>NaN</td>\n",
       "      <td>NaN</td>\n",
       "      <td>NaT</td>\n",
       "    </tr>\n",
       "    <tr>\n",
       "      <th>2</th>\n",
       "      <td>14.0</td>\n",
       "      <td>5452.7</td>\n",
       "      <td>ОПЛАЧЕНО</td>\n",
       "      <td>Петрова</td>\n",
       "      <td>новая</td>\n",
       "      <td>оригинал</td>\n",
       "      <td>2021-07-26</td>\n",
       "    </tr>\n",
       "    <tr>\n",
       "      <th>3</th>\n",
       "      <td>15.0</td>\n",
       "      <td>13991.7</td>\n",
       "      <td>ОПЛАЧЕНО</td>\n",
       "      <td>Иванов</td>\n",
       "      <td>текущая</td>\n",
       "      <td>оригинал</td>\n",
       "      <td>2021-06-08</td>\n",
       "    </tr>\n",
       "    <tr>\n",
       "      <th>4</th>\n",
       "      <td>16.0</td>\n",
       "      <td>719.7</td>\n",
       "      <td>ОПЛАЧЕНО</td>\n",
       "      <td>Иванов</td>\n",
       "      <td>текущая</td>\n",
       "      <td>оригинал</td>\n",
       "      <td>2021-06-08</td>\n",
       "    </tr>\n",
       "    <tr>\n",
       "      <th>5</th>\n",
       "      <td>18.0</td>\n",
       "      <td>4253.7</td>\n",
       "      <td>ОПЛАЧЕНО</td>\n",
       "      <td>Иванов</td>\n",
       "      <td>текущая</td>\n",
       "      <td>оригинал</td>\n",
       "      <td>2021-07-07</td>\n",
       "    </tr>\n",
       "    <tr>\n",
       "      <th>...</th>\n",
       "      <td>...</td>\n",
       "      <td>...</td>\n",
       "      <td>...</td>\n",
       "      <td>...</td>\n",
       "      <td>...</td>\n",
       "      <td>...</td>\n",
       "      <td>...</td>\n",
       "    </tr>\n",
       "    <tr>\n",
       "      <th>725</th>\n",
       "      <td>285.0</td>\n",
       "      <td>4328.7</td>\n",
       "      <td>ОПЛАЧЕНО</td>\n",
       "      <td>Васильев</td>\n",
       "      <td>текущая</td>\n",
       "      <td>оригинал</td>\n",
       "      <td>2021-11-15</td>\n",
       "    </tr>\n",
       "    <tr>\n",
       "      <th>726</th>\n",
       "      <td>360.0</td>\n",
       "      <td>3096.2</td>\n",
       "      <td>ОПЛАЧЕНО</td>\n",
       "      <td>Васильев</td>\n",
       "      <td>новая</td>\n",
       "      <td>НЕТ</td>\n",
       "      <td>NaT</td>\n",
       "    </tr>\n",
       "    <tr>\n",
       "      <th>727</th>\n",
       "      <td>360.0</td>\n",
       "      <td>3096.2</td>\n",
       "      <td>ПРОСРОЧЕНО</td>\n",
       "      <td>Васильев</td>\n",
       "      <td>новая</td>\n",
       "      <td>НЕТ</td>\n",
       "      <td>NaT</td>\n",
       "    </tr>\n",
       "    <tr>\n",
       "      <th>728</th>\n",
       "      <td>373.0</td>\n",
       "      <td>4403.7</td>\n",
       "      <td>ОПЛАЧЕНО</td>\n",
       "      <td>Михайлов</td>\n",
       "      <td>новая</td>\n",
       "      <td>оригинал</td>\n",
       "      <td>2021-11-08</td>\n",
       "    </tr>\n",
       "    <tr>\n",
       "      <th>729</th>\n",
       "      <td>286.0</td>\n",
       "      <td>3978.7</td>\n",
       "      <td>ОПЛАЧЕНО</td>\n",
       "      <td>Филимонова</td>\n",
       "      <td>текущая</td>\n",
       "      <td>оригинал</td>\n",
       "      <td>2021-11-15</td>\n",
       "    </tr>\n",
       "  </tbody>\n",
       "</table>\n",
       "<p>724 rows × 7 columns</p>\n",
       "</div>"
      ],
      "text/plain": [
       "     client_id      sum      status        sale new/current  document  \\\n",
       "1          6.0  11693.7  ВНУТРЕННИЙ         NaN         NaN       NaN   \n",
       "2         14.0   5452.7    ОПЛАЧЕНО     Петрова       новая  оригинал   \n",
       "3         15.0  13991.7    ОПЛАЧЕНО      Иванов     текущая  оригинал   \n",
       "4         16.0    719.7    ОПЛАЧЕНО      Иванов     текущая  оригинал   \n",
       "5         18.0   4253.7    ОПЛАЧЕНО      Иванов     текущая  оригинал   \n",
       "..         ...      ...         ...         ...         ...       ...   \n",
       "725      285.0   4328.7    ОПЛАЧЕНО    Васильев     текущая  оригинал   \n",
       "726      360.0   3096.2    ОПЛАЧЕНО    Васильев       новая       НЕТ   \n",
       "727      360.0   3096.2  ПРОСРОЧЕНО    Васильев       новая       НЕТ   \n",
       "728      373.0   4403.7    ОПЛАЧЕНО    Михайлов       новая  оригинал   \n",
       "729      286.0   3978.7    ОПЛАЧЕНО  Филимонова     текущая  оригинал   \n",
       "\n",
       "    receiving_date  \n",
       "1              NaT  \n",
       "2       2021-07-26  \n",
       "3       2021-06-08  \n",
       "4       2021-06-08  \n",
       "5       2021-07-07  \n",
       "..             ...  \n",
       "725     2021-11-15  \n",
       "726            NaT  \n",
       "727            NaT  \n",
       "728     2021-11-08  \n",
       "729     2021-11-15  \n",
       "\n",
       "[724 rows x 7 columns]"
      ]
     },
     "execution_count": 172,
     "metadata": {},
     "output_type": "execute_result"
    }
   ],
   "source": [
    "df"
   ]
  },
  {
   "cell_type": "markdown",
   "metadata": {},
   "source": [
    "Создадим колонку с процентами, которые получают менеджеры за сделки при учёте ксловий 1 и 2"
   ]
  },
  {
   "cell_type": "code",
   "execution_count": 173,
   "metadata": {},
   "outputs": [],
   "source": [
    "df['percent'] = 0\n",
    "df.loc[(df['new/current'] == 'новая') & (df['status'] == 'ОПЛАЧЕНО') & (df['document'] == 'оригинал'), 'percent'] = 7\n",
    "df.loc[(df['new/current'] == 'текущая') & (df['status'] != 'ПРОСРОЧЕНО') & (df['document'] == 'оригинал') & (df['sum'] >= 10000), 'percent'] = 5\n",
    "df.loc[(df['new/current'] == 'текущая') & (df['status'] != 'ПРОСРОЧЕНО') & (df['document'] == 'оригинал') & (df['sum'] < 10000), 'percent'] = 3\n"
   ]
  },
  {
   "cell_type": "markdown",
   "metadata": {},
   "source": [
    "Теперь таблица выглядит следующим образом"
   ]
  },
  {
   "cell_type": "code",
   "execution_count": 174,
   "metadata": {},
   "outputs": [
    {
     "data": {
      "text/html": [
       "<div>\n",
       "<style scoped>\n",
       "    .dataframe tbody tr th:only-of-type {\n",
       "        vertical-align: middle;\n",
       "    }\n",
       "\n",
       "    .dataframe tbody tr th {\n",
       "        vertical-align: top;\n",
       "    }\n",
       "\n",
       "    .dataframe thead th {\n",
       "        text-align: right;\n",
       "    }\n",
       "</style>\n",
       "<table border=\"1\" class=\"dataframe\">\n",
       "  <thead>\n",
       "    <tr style=\"text-align: right;\">\n",
       "      <th></th>\n",
       "      <th>client_id</th>\n",
       "      <th>sum</th>\n",
       "      <th>status</th>\n",
       "      <th>sale</th>\n",
       "      <th>new/current</th>\n",
       "      <th>document</th>\n",
       "      <th>receiving_date</th>\n",
       "      <th>percent</th>\n",
       "    </tr>\n",
       "  </thead>\n",
       "  <tbody>\n",
       "    <tr>\n",
       "      <th>1</th>\n",
       "      <td>6.0</td>\n",
       "      <td>11693.7</td>\n",
       "      <td>ВНУТРЕННИЙ</td>\n",
       "      <td>NaN</td>\n",
       "      <td>NaN</td>\n",
       "      <td>NaN</td>\n",
       "      <td>NaT</td>\n",
       "      <td>0</td>\n",
       "    </tr>\n",
       "    <tr>\n",
       "      <th>2</th>\n",
       "      <td>14.0</td>\n",
       "      <td>5452.7</td>\n",
       "      <td>ОПЛАЧЕНО</td>\n",
       "      <td>Петрова</td>\n",
       "      <td>новая</td>\n",
       "      <td>оригинал</td>\n",
       "      <td>2021-07-26</td>\n",
       "      <td>7</td>\n",
       "    </tr>\n",
       "    <tr>\n",
       "      <th>3</th>\n",
       "      <td>15.0</td>\n",
       "      <td>13991.7</td>\n",
       "      <td>ОПЛАЧЕНО</td>\n",
       "      <td>Иванов</td>\n",
       "      <td>текущая</td>\n",
       "      <td>оригинал</td>\n",
       "      <td>2021-06-08</td>\n",
       "      <td>5</td>\n",
       "    </tr>\n",
       "    <tr>\n",
       "      <th>4</th>\n",
       "      <td>16.0</td>\n",
       "      <td>719.7</td>\n",
       "      <td>ОПЛАЧЕНО</td>\n",
       "      <td>Иванов</td>\n",
       "      <td>текущая</td>\n",
       "      <td>оригинал</td>\n",
       "      <td>2021-06-08</td>\n",
       "      <td>3</td>\n",
       "    </tr>\n",
       "    <tr>\n",
       "      <th>5</th>\n",
       "      <td>18.0</td>\n",
       "      <td>4253.7</td>\n",
       "      <td>ОПЛАЧЕНО</td>\n",
       "      <td>Иванов</td>\n",
       "      <td>текущая</td>\n",
       "      <td>оригинал</td>\n",
       "      <td>2021-07-07</td>\n",
       "      <td>3</td>\n",
       "    </tr>\n",
       "    <tr>\n",
       "      <th>...</th>\n",
       "      <td>...</td>\n",
       "      <td>...</td>\n",
       "      <td>...</td>\n",
       "      <td>...</td>\n",
       "      <td>...</td>\n",
       "      <td>...</td>\n",
       "      <td>...</td>\n",
       "      <td>...</td>\n",
       "    </tr>\n",
       "    <tr>\n",
       "      <th>725</th>\n",
       "      <td>285.0</td>\n",
       "      <td>4328.7</td>\n",
       "      <td>ОПЛАЧЕНО</td>\n",
       "      <td>Васильев</td>\n",
       "      <td>текущая</td>\n",
       "      <td>оригинал</td>\n",
       "      <td>2021-11-15</td>\n",
       "      <td>3</td>\n",
       "    </tr>\n",
       "    <tr>\n",
       "      <th>726</th>\n",
       "      <td>360.0</td>\n",
       "      <td>3096.2</td>\n",
       "      <td>ОПЛАЧЕНО</td>\n",
       "      <td>Васильев</td>\n",
       "      <td>новая</td>\n",
       "      <td>НЕТ</td>\n",
       "      <td>NaT</td>\n",
       "      <td>0</td>\n",
       "    </tr>\n",
       "    <tr>\n",
       "      <th>727</th>\n",
       "      <td>360.0</td>\n",
       "      <td>3096.2</td>\n",
       "      <td>ПРОСРОЧЕНО</td>\n",
       "      <td>Васильев</td>\n",
       "      <td>новая</td>\n",
       "      <td>НЕТ</td>\n",
       "      <td>NaT</td>\n",
       "      <td>0</td>\n",
       "    </tr>\n",
       "    <tr>\n",
       "      <th>728</th>\n",
       "      <td>373.0</td>\n",
       "      <td>4403.7</td>\n",
       "      <td>ОПЛАЧЕНО</td>\n",
       "      <td>Михайлов</td>\n",
       "      <td>новая</td>\n",
       "      <td>оригинал</td>\n",
       "      <td>2021-11-08</td>\n",
       "      <td>7</td>\n",
       "    </tr>\n",
       "    <tr>\n",
       "      <th>729</th>\n",
       "      <td>286.0</td>\n",
       "      <td>3978.7</td>\n",
       "      <td>ОПЛАЧЕНО</td>\n",
       "      <td>Филимонова</td>\n",
       "      <td>текущая</td>\n",
       "      <td>оригинал</td>\n",
       "      <td>2021-11-15</td>\n",
       "      <td>3</td>\n",
       "    </tr>\n",
       "  </tbody>\n",
       "</table>\n",
       "<p>724 rows × 8 columns</p>\n",
       "</div>"
      ],
      "text/plain": [
       "     client_id      sum      status        sale new/current  document  \\\n",
       "1          6.0  11693.7  ВНУТРЕННИЙ         NaN         NaN       NaN   \n",
       "2         14.0   5452.7    ОПЛАЧЕНО     Петрова       новая  оригинал   \n",
       "3         15.0  13991.7    ОПЛАЧЕНО      Иванов     текущая  оригинал   \n",
       "4         16.0    719.7    ОПЛАЧЕНО      Иванов     текущая  оригинал   \n",
       "5         18.0   4253.7    ОПЛАЧЕНО      Иванов     текущая  оригинал   \n",
       "..         ...      ...         ...         ...         ...       ...   \n",
       "725      285.0   4328.7    ОПЛАЧЕНО    Васильев     текущая  оригинал   \n",
       "726      360.0   3096.2    ОПЛАЧЕНО    Васильев       новая       НЕТ   \n",
       "727      360.0   3096.2  ПРОСРОЧЕНО    Васильев       новая       НЕТ   \n",
       "728      373.0   4403.7    ОПЛАЧЕНО    Михайлов       новая  оригинал   \n",
       "729      286.0   3978.7    ОПЛАЧЕНО  Филимонова     текущая  оригинал   \n",
       "\n",
       "    receiving_date  percent  \n",
       "1              NaT        0  \n",
       "2       2021-07-26        7  \n",
       "3       2021-06-08        5  \n",
       "4       2021-06-08        3  \n",
       "5       2021-07-07        3  \n",
       "..             ...      ...  \n",
       "725     2021-11-15        3  \n",
       "726            NaT        0  \n",
       "727            NaT        0  \n",
       "728     2021-11-08        7  \n",
       "729     2021-11-15        3  \n",
       "\n",
       "[724 rows x 8 columns]"
      ]
     },
     "execution_count": 174,
     "metadata": {},
     "output_type": "execute_result"
    }
   ],
   "source": [
    "df"
   ]
  },
  {
   "cell_type": "markdown",
   "metadata": {},
   "source": [
    "Если я правильно понял условие, нам нужно найти менеджеров которые не подходят под наши условия 1 и 2 до 01.07.2021"
   ]
  },
  {
   "cell_type": "code",
   "execution_count": 175,
   "metadata": {},
   "outputs": [],
   "source": [
    "ans = (df[(df['receiving_date'].dt.strftime('%Y-%m') == '2021-06')]\n",
    "       .groupby(['sale', 'percent'])['sum'].sum().reset_index())"
   ]
  },
  {
   "cell_type": "code",
   "execution_count": 176,
   "metadata": {},
   "outputs": [
    {
     "data": {
      "text/html": [
       "<div>\n",
       "<style scoped>\n",
       "    .dataframe tbody tr th:only-of-type {\n",
       "        vertical-align: middle;\n",
       "    }\n",
       "\n",
       "    .dataframe tbody tr th {\n",
       "        vertical-align: top;\n",
       "    }\n",
       "\n",
       "    .dataframe thead th {\n",
       "        text-align: right;\n",
       "    }\n",
       "</style>\n",
       "<table border=\"1\" class=\"dataframe\">\n",
       "  <thead>\n",
       "    <tr style=\"text-align: right;\">\n",
       "      <th></th>\n",
       "      <th>sale</th>\n",
       "      <th>percent</th>\n",
       "      <th>sum</th>\n",
       "    </tr>\n",
       "  </thead>\n",
       "  <tbody>\n",
       "    <tr>\n",
       "      <th>0</th>\n",
       "      <td>Андреев</td>\n",
       "      <td>3</td>\n",
       "      <td>18942.09</td>\n",
       "    </tr>\n",
       "    <tr>\n",
       "      <th>1</th>\n",
       "      <td>Андреев</td>\n",
       "      <td>5</td>\n",
       "      <td>24991.40</td>\n",
       "    </tr>\n",
       "    <tr>\n",
       "      <th>2</th>\n",
       "      <td>Андреев</td>\n",
       "      <td>7</td>\n",
       "      <td>16347.70</td>\n",
       "    </tr>\n",
       "    <tr>\n",
       "      <th>3</th>\n",
       "      <td>Васильев</td>\n",
       "      <td>3</td>\n",
       "      <td>10132.40</td>\n",
       "    </tr>\n",
       "    <tr>\n",
       "      <th>4</th>\n",
       "      <td>Васильев</td>\n",
       "      <td>7</td>\n",
       "      <td>503.70</td>\n",
       "    </tr>\n",
       "    <tr>\n",
       "      <th>5</th>\n",
       "      <td>Иванов</td>\n",
       "      <td>3</td>\n",
       "      <td>18417.80</td>\n",
       "    </tr>\n",
       "    <tr>\n",
       "      <th>6</th>\n",
       "      <td>Иванов</td>\n",
       "      <td>5</td>\n",
       "      <td>39026.10</td>\n",
       "    </tr>\n",
       "    <tr>\n",
       "      <th>7</th>\n",
       "      <td>Кузнецова</td>\n",
       "      <td>3</td>\n",
       "      <td>72684.65</td>\n",
       "    </tr>\n",
       "    <tr>\n",
       "      <th>8</th>\n",
       "      <td>Кузнецова</td>\n",
       "      <td>7</td>\n",
       "      <td>6059.03</td>\n",
       "    </tr>\n",
       "    <tr>\n",
       "      <th>9</th>\n",
       "      <td>Петрова</td>\n",
       "      <td>3</td>\n",
       "      <td>83818.10</td>\n",
       "    </tr>\n",
       "    <tr>\n",
       "      <th>10</th>\n",
       "      <td>Петрова</td>\n",
       "      <td>5</td>\n",
       "      <td>74880.00</td>\n",
       "    </tr>\n",
       "    <tr>\n",
       "      <th>11</th>\n",
       "      <td>Петрова</td>\n",
       "      <td>7</td>\n",
       "      <td>11003.70</td>\n",
       "    </tr>\n",
       "    <tr>\n",
       "      <th>12</th>\n",
       "      <td>Селиванов</td>\n",
       "      <td>3</td>\n",
       "      <td>11777.40</td>\n",
       "    </tr>\n",
       "    <tr>\n",
       "      <th>13</th>\n",
       "      <td>Смирнов</td>\n",
       "      <td>0</td>\n",
       "      <td>9948.70</td>\n",
       "    </tr>\n",
       "    <tr>\n",
       "      <th>14</th>\n",
       "      <td>Смирнов</td>\n",
       "      <td>3</td>\n",
       "      <td>22974.80</td>\n",
       "    </tr>\n",
       "    <tr>\n",
       "      <th>15</th>\n",
       "      <td>Смирнов</td>\n",
       "      <td>5</td>\n",
       "      <td>67789.60</td>\n",
       "    </tr>\n",
       "    <tr>\n",
       "      <th>16</th>\n",
       "      <td>Филимонова</td>\n",
       "      <td>3</td>\n",
       "      <td>10202.40</td>\n",
       "    </tr>\n",
       "  </tbody>\n",
       "</table>\n",
       "</div>"
      ],
      "text/plain": [
       "          sale  percent       sum\n",
       "0      Андреев        3  18942.09\n",
       "1      Андреев        5  24991.40\n",
       "2      Андреев        7  16347.70\n",
       "3     Васильев        3  10132.40\n",
       "4     Васильев        7    503.70\n",
       "5       Иванов        3  18417.80\n",
       "6       Иванов        5  39026.10\n",
       "7    Кузнецова        3  72684.65\n",
       "8    Кузнецова        7   6059.03\n",
       "9      Петрова        3  83818.10\n",
       "10     Петрова        5  74880.00\n",
       "11     Петрова        7  11003.70\n",
       "12   Селиванов        3  11777.40\n",
       "13     Смирнов        0   9948.70\n",
       "14     Смирнов        3  22974.80\n",
       "15     Смирнов        5  67789.60\n",
       "16  Филимонова        3  10202.40"
      ]
     },
     "execution_count": 176,
     "metadata": {},
     "output_type": "execute_result"
    }
   ],
   "source": [
    "ans"
   ]
  },
  {
   "cell_type": "markdown",
   "metadata": {},
   "source": [
    "В итоге к 01.07.2021 таких менеджеров только один"
   ]
  },
  {
   "cell_type": "code",
   "execution_count": 177,
   "metadata": {},
   "outputs": [
    {
     "data": {
      "text/html": [
       "<div>\n",
       "<style scoped>\n",
       "    .dataframe tbody tr th:only-of-type {\n",
       "        vertical-align: middle;\n",
       "    }\n",
       "\n",
       "    .dataframe tbody tr th {\n",
       "        vertical-align: top;\n",
       "    }\n",
       "\n",
       "    .dataframe thead th {\n",
       "        text-align: right;\n",
       "    }\n",
       "</style>\n",
       "<table border=\"1\" class=\"dataframe\">\n",
       "  <thead>\n",
       "    <tr style=\"text-align: right;\">\n",
       "      <th></th>\n",
       "      <th>sale</th>\n",
       "      <th>percent</th>\n",
       "      <th>sum</th>\n",
       "    </tr>\n",
       "  </thead>\n",
       "  <tbody>\n",
       "    <tr>\n",
       "      <th>13</th>\n",
       "      <td>Смирнов</td>\n",
       "      <td>0</td>\n",
       "      <td>9948.7</td>\n",
       "    </tr>\n",
       "  </tbody>\n",
       "</table>\n",
       "</div>"
      ],
      "text/plain": [
       "       sale  percent     sum\n",
       "13  Смирнов        0  9948.7"
      ]
     },
     "execution_count": 177,
     "metadata": {},
     "output_type": "execute_result"
    }
   ],
   "source": [
    "ans[ans['percent'] == 0]"
   ]
  }
 ],
 "metadata": {
  "kernelspec": {
   "display_name": "Python 3",
   "language": "python",
   "name": "python3"
  },
  "language_info": {
   "codemirror_mode": {
    "name": "ipython",
    "version": 3
   },
   "file_extension": ".py",
   "mimetype": "text/x-python",
   "name": "python",
   "nbconvert_exporter": "python",
   "pygments_lexer": "ipython3",
   "version": "3.11.7"
  }
 },
 "nbformat": 4,
 "nbformat_minor": 2
}
